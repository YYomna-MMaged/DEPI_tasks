{
 "cells": [
  {
   "cell_type": "markdown",
   "metadata": {},
   "source": [
    "# Section 1: Printing Messages \n",
    "1. Write a Python program to print the following message on the screen: \n",
    "\"Hello, Python learners! Today we start our coding journey.\" \n",
    "2. Challenge: Print a multi-line message using triple quotes that includes your name and \n",
    "favorite programming language."
   ]
  },
  {
   "cell_type": "code",
   "execution_count": 1,
   "metadata": {},
   "outputs": [
    {
     "name": "stdout",
     "output_type": "stream",
     "text": [
      "Hello, Python learners! Today we start our coding journey.\n",
      "Yomna Maged\n",
      "CPP\n"
     ]
    }
   ],
   "source": [
    "#Printing Messages \n",
    "print(\"Hello, Python learners! Today we start our coding journey.\")\n",
    "\n",
    "#Challenge\n",
    "print(\"\"\"Yomna Maged\n",
    "CPP\"\"\")\n"
   ]
  },
  {
   "cell_type": "markdown",
   "metadata": {},
   "source": [
    "# Section 2: Variables and Data Types \n",
    "1. Create a variable called age and assign it your age. Print a message that says, \"I am \n",
    "[age] years old.\" \n",
    "2. Challenge: Create three variables of different data types (integer, float, and string). Print \n",
    "each variable with a description of its data type."
   ]
  },
  {
   "cell_type": "code",
   "execution_count": 4,
   "metadata": {},
   "outputs": [
    {
     "name": "stdout",
     "output_type": "stream",
     "text": [
      "I am 20 years old.\n",
      "Type of (name): <class 'str'>\n",
      "Type of (age): <class 'int'>\n",
      "Type of (gpa): <class 'float'>\n"
     ]
    }
   ],
   "source": [
    "#Variables and Data Types \n",
    "age = 20\n",
    "print(f\"I am {age} years old.\")\n",
    "\n",
    "#Challenge\n",
    "name = \"YOMNA\" #string\n",
    "age = 20 #integer\n",
    "gpa = 3.5 #flaot\n",
    "\n",
    "print(\"Type of (name): \" +str(type(name)))\n",
    "print(\"Type of (age): \" +str(type(age)))\n",
    "print(\"Type of (gpa): \" +str(type(gpa)))"
   ]
  },
  {
   "cell_type": "markdown",
   "metadata": {},
   "source": [
    "# Section 3: Working with Strings \n",
    "1. Given the string text = \"Python is amazing\", write a program to extract and print the \n",
    "word \"amazing\" from it. \n",
    "2. Challenge: Concatenate two strings, first_name and last_name, with a space in between, and \n",
    "print the full name in uppercase."
   ]
  },
  {
   "cell_type": "code",
   "execution_count": null,
   "metadata": {},
   "outputs": [],
   "source": [
    "#strings\n",
    "text = \"Python is amazing\"\n",
    "print(text[-7:])\n",
    "\n",
    "#Challenge\n",
    "first_name = \"Yomna\"\n",
    "last_name = \"Maged\"\n",
    "\n",
    "print(first_name.upper() +\" \"+ last_name.upper())"
   ]
  },
  {
   "cell_type": "markdown",
   "metadata": {},
   "source": [
    "# Section 4: Basic Operations \n",
    "1. Write a program to calculate the area of a rectangle with a width of 5 and a height of 10. \n",
    "2. Challenge: Create two numbers, a = 20 and b = 7, and print the result of each arithmetic \n",
    "operation: addition, subtraction, multiplication, division, and modulo."
   ]
  },
  {
   "cell_type": "code",
   "execution_count": null,
   "metadata": {},
   "outputs": [],
   "source": [
    "#Basic Operations\n",
    "width = 5 \n",
    "height = 10\n",
    "\n",
    "area = width*height\n",
    "\n",
    "#Challenge\n",
    "a = 20\n",
    "b = 7\n",
    "print(a+b)\n",
    "print(a-b)\n",
    "print(a*b)\n",
    "print(a/b)\n",
    "print(a%b) "
   ]
  },
  {
   "cell_type": "markdown",
   "metadata": {},
   "source": [
    "# Section 5: Lists and Tuples \n",
    "1. Create a list of five of your favorite foods. Print the entire list, then print the third \n",
    "item in the list. \n",
    "2. Challenge: Convert the list into a tuple, and try to change the first item in the tuple. Observe \n",
    "and explain the result. "
   ]
  },
  {
   "cell_type": "code",
   "execution_count": null,
   "metadata": {},
   "outputs": [
    {
     "name": "stdout",
     "output_type": "stream",
     "text": [
      "['dounts', 'fruits', 'cream caramel']\n"
     ]
    }
   ],
   "source": [
    "#Lists and Tuples\n",
    "fav_foods = [\"dounts\", \"fruits\", \"cream caramel\", \"Shawarma\",]\n",
    "print(fav_foods[:3])\n",
    "\n",
    "#Challenge\n",
    "fav_foods_tuple = tuple(fav_foods)\n",
    "#fav_foods_tuple[0] = \"cake\" #error --> can not change items in tuples"
   ]
  },
  {
   "cell_type": "markdown",
   "metadata": {},
   "source": [
    "# Section 6: String Manipulation and Slicing \n",
    "1. Given the string sentence = \"Learning Python is fun!\", write a program to slice and \n",
    "print the word \"Python\" from it. \n",
    "2. Challenge: Replace the word \"fun\" with \"awesome\" in the sentence and print the new \n",
    "sentence. "
   ]
  },
  {
   "cell_type": "code",
   "execution_count": 8,
   "metadata": {},
   "outputs": [
    {
     "name": "stdout",
     "output_type": "stream",
     "text": [
      "Python \n",
      "Learning Python is awesome!\n"
     ]
    }
   ],
   "source": [
    "#Manipulation and Slicing \n",
    "sentence = \"Learning Python is fun!\"\n",
    "print(sentence[9 : 16])\n",
    "\n",
    "#Challenge\n",
    "new = sentence.replace(\"fun\", \"awesome\")\n",
    "print(new)"
   ]
  },
  {
   "cell_type": "markdown",
   "metadata": {},
   "source": [
    "# Section 7: Dictionaries \n",
    "1. Create a dictionary called student with the keys name, age, and grade. Assign values \n",
    "to each key and print the dictionary. \n",
    "2. Challenge: Add a new key city to the dictionary and set it to any city name. Print the \n",
    "updated dictionary. "
   ]
  },
  {
   "cell_type": "code",
   "execution_count": 9,
   "metadata": {},
   "outputs": [
    {
     "name": "stdout",
     "output_type": "stream",
     "text": [
      "{'name': 'Yomna Maged', 'age': 20, 'grade': 'A+'}\n",
      "{'name': 'Yomna Maged', 'age': 20, 'grade': 'A+', 'city': 'Giza'}\n"
     ]
    }
   ],
   "source": [
    "#Dictionaries\n",
    "student = {\"name\" : \"Yomna Maged\" , \"age\" : 20, \"grade\" : \"A+\"}\n",
    "print(student)\n",
    "\n",
    "#Callenge\n",
    "student[\"city\"] = \"Giza\"\n",
    "print(student)"
   ]
  },
  {
   "cell_type": "markdown",
   "metadata": {},
   "source": [
    "# Section8: Basic Arithmetic Operations \n",
    "1. Write a program that takes two numbers from the user and prints their sum, \n",
    "difference, product, and division result. \n",
    "2. Challenge: Use the modulo operator to check if the first number is divisible by the second \n",
    "number, and print the result as \"Divisible\" or \"Not Divisible\"."
   ]
  },
  {
   "cell_type": "code",
   "execution_count": 11,
   "metadata": {},
   "outputs": [
    {
     "name": "stdout",
     "output_type": "stream",
     "text": [
      "9.0\n",
      "5.0\n",
      "14.0\n",
      "3.5\n",
      "Not Divisile\n"
     ]
    }
   ],
   "source": [
    "#Arithmetic Operations \n",
    "num1 = float(input(\"first number:\"))\n",
    "num2 = float(input(\"second number:\"))\n",
    "print(num1+num2)\n",
    "print(num1-num2)\n",
    "print(num1*num2)\n",
    "print(num1/num2)\n",
    "\n",
    "#Challenge\n",
    "if(num1%num2 == 0):\n",
    "    print(\"Divisible\")\n",
    "else:\n",
    "    print(\"Not Divisile\")\n"
   ]
  }
 ],
 "metadata": {
  "kernelspec": {
   "display_name": "Python 3",
   "language": "python",
   "name": "python3"
  },
  "language_info": {
   "codemirror_mode": {
    "name": "ipython",
    "version": 3
   },
   "file_extension": ".py",
   "mimetype": "text/x-python",
   "name": "python",
   "nbconvert_exporter": "python",
   "pygments_lexer": "ipython3",
   "version": "3.13.0"
  }
 },
 "nbformat": 4,
 "nbformat_minor": 2
}
