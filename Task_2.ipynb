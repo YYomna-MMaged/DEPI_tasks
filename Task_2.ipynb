{
 "cells": [
  {
   "cell_type": "code",
   "execution_count": 2,
   "metadata": {},
   "outputs": [
    {
     "name": "stdout",
     "output_type": "stream",
     "text": [
      "[6, 2, 20, 9, 10]\n",
      "[7, 18, 11]\n",
      "[9, 10, 4, 19, 7]\n"
     ]
    },
    {
     "data": {
      "text/plain": [
       "['Apple', 'Banana', 'Cherry', 'Date', 'Grapes']"
      ]
     },
     "execution_count": 2,
     "metadata": {},
     "output_type": "execute_result"
    }
   ],
   "source": [
    "#Lists and List Slicing\n",
    "#1.\n",
    "list = [6, 2, 20, 9, 10, 4, 19, 7, 18, 11]\n",
    "\n",
    "first_5_elements = list[:5]\n",
    "last_3_elements = list[-3:]\n",
    "from_3_to_7 = list[3:8]\n",
    "\n",
    "print(first_5_elements)\n",
    "print(last_3_elements)\n",
    "print(from_3_to_7)\n",
    "\n",
    "#2.\n",
    "fruits = ['Apple', 'Banana', 'Cherry', 'Date']\n",
    "fruits.append('Grapes')\n",
    "fruits.append('Kiwi')\n",
    "\n",
    "fruits.pop()\n",
    "fruits"
   ]
  },
  {
   "cell_type": "code",
   "execution_count": 3,
   "metadata": {},
   "outputs": [
    {
     "name": "stdout",
     "output_type": "stream",
     "text": [
      "Jenin\n",
      "{'name': 'John', 'age': 30, 'job': 'Engineer'}\n",
      "Amer: 22\n",
      "Yomna: 20\n",
      "Anas: 19\n"
     ]
    }
   ],
   "source": [
    "# Tuples and Dictionaries\n",
    "#3.\n",
    "cities = (\"Gaza\",\"Jenin\", \"Nablus\", \"Bethlehem\", \"Tulkarm\")\n",
    "print(cities[1])\n",
    "\n",
    "# cities[1] = \"Yafa\" \n",
    "#it dose not work because in tuples we can not change any item\n",
    "\n",
    "#4. \n",
    "dict = {'name': 'John', 'age': 30, 'city': 'New York'}\n",
    "dict['age']\n",
    "\n",
    "dict['job'] = 'Engineer'\n",
    "\n",
    "dict.pop(\"city\")\n",
    "print(dict)\n",
    "\n",
    "# 5.\n",
    "peoples = {\n",
    "    'Amer': 22,\n",
    "    'Yomna': 20,\n",
    "    'Anas': 19\n",
    "}\n",
    "\n",
    "for i in peoples:\n",
    "    print(f\"{i}: {peoples[i]}\")\n"
   ]
  },
  {
   "cell_type": "code",
   "execution_count": 7,
   "metadata": {},
   "outputs": [
    {
     "name": "stdout",
     "output_type": "stream",
     "text": [
      "Adult\n",
      "odd\n",
      "f\n"
     ]
    }
   ],
   "source": [
    "# Conditional Statements \n",
    "# 6.\n",
    "age = int(input(\"inter your age\"))\n",
    "\n",
    "if age >= 18:\n",
    "    print('Adult')\n",
    "else:\n",
    "    print('Minor')\n",
    "\n",
    "# 7.\n",
    "number = int(input(\"enter number\"))\n",
    "\n",
    "if number%2 == 0:\n",
    "    print(\"Even\")\n",
    "else:\n",
    "    print(\"odd\") \n",
    "\n",
    "# 8.\n",
    "score = int(input())\n",
    "if score >= 90:\n",
    "    print('A')\n",
    "elif score >= 70:\n",
    "    print('B')\n",
    "elif score >= 50:\n",
    "    print('c')\n",
    "else:\n",
    "    print('f')"
   ]
  },
  {
   "cell_type": "code",
   "execution_count": 5,
   "metadata": {},
   "outputs": [
    {
     "name": "stdout",
     "output_type": "stream",
     "text": [
      "2\n",
      "4\n",
      "6\n",
      "8\n",
      "10\n",
      "12\n",
      "14\n",
      "16\n",
      "18\n",
      "20\n",
      "10\n",
      "9\n",
      "8\n",
      "7\n",
      "6\n",
      "5\n",
      "4\n",
      "3\n",
      "2\n",
      "1\n",
      "15\n"
     ]
    }
   ],
   "source": [
    "# Loops\n",
    "# 9.\n",
    "for i in range(1, 21):\n",
    "    if i%2 == 0:\n",
    "        print(i)\n",
    "\n",
    "# 10. \n",
    "i = 10\n",
    "while i >= 1:\n",
    "    print(i)\n",
    "    i -= 1\n",
    "\n",
    "# 11.\n",
    "number = int(input(\"enter number\"))\n",
    "x = 0\n",
    "for i in range(1, number+1):\n",
    "    x += i\n",
    "print(x)\n"
   ]
  },
  {
   "cell_type": "code",
   "execution_count": 8,
   "metadata": {},
   "outputs": [
    {
     "name": "stdout",
     "output_type": "stream",
     "text": [
      "Hello, YOMNA! You are 20 years old.\n",
      "That's a nice color too!\n",
      "2.6\n",
      "4.0\n",
      "1.0\n"
     ]
    }
   ],
   "source": [
    "# 12.\n",
    "name = str(input(\"enter your name\"))\n",
    "age = int(input(\"and your age\"))\n",
    "\n",
    "print(f\"Hello, {name}! You are {age} years old.\")\n",
    "\n",
    "# 13.\n",
    "color = str(input(\"what is your favorite color\"))\n",
    "if color == \"blue\":\n",
    "    print(\"You have great taste!\")\n",
    "else:\n",
    "    print(\"That's a nice color too!\")\n",
    "\n",
    "# 14.\n",
    "number = []\n",
    "for i in range(5):\n",
    "    num = float(input(f\"enter number {i+1}\"))\n",
    "    number.append(num)\n",
    "\n",
    "ave = 0\n",
    "for i in number:\n",
    "    ave += i\n",
    "print(ave/5)\n",
    "\n",
    "largest = max(number)\n",
    "smallest = min(number)\n",
    "\n",
    "print(largest)\n",
    "print(smallest)"
   ]
  }
 ],
 "metadata": {
  "kernelspec": {
   "display_name": "Python 3",
   "language": "python",
   "name": "python3"
  },
  "language_info": {
   "codemirror_mode": {
    "name": "ipython",
    "version": 3
   },
   "file_extension": ".py",
   "mimetype": "text/x-python",
   "name": "python",
   "nbconvert_exporter": "python",
   "pygments_lexer": "ipython3",
   "version": "3.13.0"
  }
 },
 "nbformat": 4,
 "nbformat_minor": 2
}
